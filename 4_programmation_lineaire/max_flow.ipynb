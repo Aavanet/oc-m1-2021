{
 "cells": [
  {
   "cell_type": "code",
   "execution_count": 40,
   "metadata": {},
   "outputs": [],
   "source": [
    "import mip\n",
    "\n",
    "m = mip.Model()"
   ]
  },
  {
   "cell_type": "code",
   "execution_count": 42,
   "metadata": {},
   "outputs": [],
   "source": [
    "V = \"sabcdefgt\"\n",
    "E = [(u, v) for u in V for v in V if u != v]"
   ]
  },
  {
   "cell_type": "code",
   "execution_count": 43,
   "metadata": {},
   "outputs": [],
   "source": [
    "c = {}\n",
    "for e in E: \n",
    "    c[e] = 0\n",
    "\n",
    "for u, v, w in [(\"s\", \"a\", 5), (\"s\", \"b\", 7), (\"a\", \"c\", 3), (\"a\", \"d\", 1), (\"a\", \"e\", 1), (\"b\", \"c\", 2), (\"b\", \"d\", 2), (\"b\", \"e\", 5), (\"c\", \"f\", 2), (\"c\", \"g\", 1), (\"d\", \"f\", 3), (\"e\", \"g\", 3), (\"f\", \"t\", 7), (\"g\", \"t\", 5)]:\n",
    "    c[(u, v)] = w\n",
    "\n",
    "E = list(c.keys())\n",
    "f = {e: m.add_var(name=f\"f_{e[0]}{e[1]}\") for e in E}\n"
   ]
  },
  {
   "cell_type": "code",
   "execution_count": 44,
   "metadata": {},
   "outputs": [],
   "source": [
    "m.objective = mip.maximize(mip.xsum(f[e] for e in E if e[0] == \"s\"))"
   ]
  },
  {
   "cell_type": "code",
   "execution_count": 45,
   "metadata": {},
   "outputs": [],
   "source": [
    "for e in E:\n",
    "    m += 0 <= f[e] <= c[e]"
   ]
  },
  {
   "cell_type": "code",
   "execution_count": 46,
   "metadata": {},
   "outputs": [],
   "source": [
    "for v in V:\n",
    "    if v != \"s\" and v != \"t\":\n",
    "        m += mip.xsum(f[e] for e in E if e[0] == v) == mip.xsum(f[e] for e in E if e[1] == v)"
   ]
  },
  {
   "cell_type": "code",
   "execution_count": 47,
   "metadata": {},
   "outputs": [
    {
     "data": {
      "text/plain": [
       "<OptimizationStatus.OPTIMAL: 0>"
      ]
     },
     "execution_count": 47,
     "metadata": {},
     "output_type": "execute_result"
    }
   ],
   "source": [
    "m.optimize(max_seconds=300)"
   ]
  },
  {
   "cell_type": "code",
   "execution_count": 48,
   "metadata": {},
   "outputs": [
    {
     "data": {
      "text/plain": [
       "9.0"
      ]
     },
     "execution_count": 48,
     "metadata": {},
     "output_type": "execute_result"
    }
   ],
   "source": [
    "m.objective_value"
   ]
  },
  {
   "cell_type": "code",
   "execution_count": 50,
   "metadata": {},
   "outputs": [
    {
     "name": "stdout",
     "output_type": "stream",
     "text": [
      "s -- 5.0 -> a\n",
      "s -- 4.0 -> b\n",
      "a -- 3.0 -> c\n",
      "a -- 1.0 -> d\n",
      "a -- 1.0 -> e\n",
      "b -- 2.0 -> d\n",
      "b -- 2.0 -> e\n",
      "c -- 2.0 -> f\n",
      "c -- 1.0 -> g\n",
      "d -- 3.0 -> f\n",
      "e -- 3.0 -> g\n",
      "f -- 5.0 -> t\n",
      "g -- 4.0 -> t\n"
     ]
    }
   ],
   "source": [
    "for e in E:\n",
    "    if f[e].x > 0:\n",
    "        print(f\"{e[0]} -- {f[e].x} -> {e[1]}\")"
   ]
  }
 ],
 "metadata": {
  "interpreter": {
   "hash": "31f2aee4e71d21fbe5cf8b01ff0e069b9275f58929596ceb00d14d90e3e16cd6"
  },
  "kernelspec": {
   "display_name": "Python 3.9.2 64-bit",
   "name": "python3"
  },
  "language_info": {
   "codemirror_mode": {
    "name": "ipython",
    "version": 3
   },
   "file_extension": ".py",
   "mimetype": "text/x-python",
   "name": "python",
   "nbconvert_exporter": "python",
   "pygments_lexer": "ipython3",
   "version": "3.8.10"
  },
  "orig_nbformat": 4
 },
 "nbformat": 4,
 "nbformat_minor": 2
}
